{
 "cells": [
  {
   "cell_type": "code",
   "execution_count": 2,
   "metadata": {},
   "outputs": [],
   "source": [
    "#This is the codes to capture faces from the prepared data. Thanks to Umass and USTC.\n",
    "\n",
    "#Totally 2 pieces of codes:\n",
    "#1.capture face and resize the image\n",
    "#2.just resize the image (for the collected data on my own)"
   ]
  },
  {
   "cell_type": "code",
   "execution_count": 1,
   "metadata": {
    "collapsed": true
   },
   "outputs": [],
   "source": [
    "# -*- coding: utf-8 -*-\n",
    "\"\"\"\n",
    "Created on Wed Nov 15 11:41:48 2017\n",
    "@author: WangJin_XuHan\n",
    "\"\"\"\n",
    "import math\n",
    "import tensorflow as tf\n",
    "import cv2\n",
    "import numpy as np\n",
    "import os\n",
    "import random\n",
    "import sys\n",
    "from sklearn.model_selection import train_test_split\n",
    "import dlib\n",
    "size = 64"
   ]
  },
  {
   "cell_type": "code",
   "execution_count": 12,
   "metadata": {
    "collapsed": true
   },
   "outputs": [],
   "source": [
    "###Piece 1: Pic pre-processing: capture the face from none-face pictures\n",
    "input_dir = 'D:/Desktop/InfoProject/face_jp/raw_2/noise'\n",
    "output_dir = 'D:/Desktop/InfoProject/face_jp/processed_2/other_faces'\n",
    "\n",
    "index = 0\n",
    "for filename in os.listdir(input_dir):\n",
    "    if filename.endswith('.JPG'):\n",
    "        filename = input_dir + '/' + filename\n",
    "        \n",
    "        img = cv2.imread(filename)   \n",
    "\n",
    "        #to adapt to various kinds of pictures, for each input image, we detect human face and resize\n",
    "        detector = dlib.get_frontal_face_detector()\n",
    "        dets = detector(img, 1)\n",
    "        \n",
    "        for i, d in enumerate(dets):\n",
    "            x1 = d.top() if d.top() > 0 else 0\n",
    "            y1 = d.bottom() if d.bottom() > 0 else 0\n",
    "            x2 = d.left() if d.left() > 0 else 0\n",
    "            y2 = d.right() if d.right() > 0 else 0\n",
    "            face = img[x1:y1,x2:y2]\n",
    "            \n",
    "        detected_face = cv2.resize(face, (size, size))\n",
    "        \n",
    "        index += 1\n",
    "        cv2.imwrite(output_dir + '/noiseok' + str(size) + '_' + str(index) + '.jpg',detected_face)"
   ]
  },
  {
   "cell_type": "code",
   "execution_count": null,
   "metadata": {
    "collapsed": true
   },
   "outputs": [],
   "source": [
    "###Piece 2: For the face pictures, we just need to resize them\n",
    "\n",
    "input_dir_2 = 'D:/Desktop/InfoProject/face_jp/raw_my_faces'\n",
    "output_dir_2 = 'D:/Desktop/InfoProject/face_jp/processed_my_faces_128'\n",
    "\n",
    "index_2 = 0\n",
    "for filename_2 in os.listdir(input_dir_2):\n",
    "    if filename_2.endswith('.jpg'):\n",
    "        filename_2 = input_dir_2 + '/' +filename_2\n",
    "\n",
    "        #read image\n",
    "        img2 = cv2.imread(filename_2)\n",
    "\n",
    "        #resize\n",
    "        resized_face = cv2.resize(img2,(size,size))\n",
    "\n",
    "        index_2 += 1 \n",
    "        \n",
    "        #write back\n",
    "        cv2.imwrite(output_dir_2 + '/' + str(size) + '_' + str(index_2) +'.jpg', resized_face)"
   ]
  },
  {
   "cell_type": "code",
   "execution_count": null,
   "metadata": {
    "collapsed": true
   },
   "outputs": [],
   "source": []
  }
 ],
 "metadata": {
  "kernelspec": {
   "display_name": "Python 3",
   "language": "python",
   "name": "python3"
  },
  "language_info": {
   "codemirror_mode": {
    "name": "ipython",
    "version": 3
   },
   "file_extension": ".py",
   "mimetype": "text/x-python",
   "name": "python",
   "nbconvert_exporter": "python",
   "pygments_lexer": "ipython3",
   "version": "3.6.3"
  }
 },
 "nbformat": 4,
 "nbformat_minor": 2
}
